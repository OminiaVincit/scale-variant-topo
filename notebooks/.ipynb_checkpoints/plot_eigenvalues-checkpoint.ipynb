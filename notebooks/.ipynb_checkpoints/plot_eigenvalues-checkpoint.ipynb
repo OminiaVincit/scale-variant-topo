{
 "cells": [
  {
   "cell_type": "code",
   "execution_count": 1,
   "metadata": {},
   "outputs": [],
   "source": [
    "%matplotlib inline"
   ]
  },
  {
   "cell_type": "markdown",
   "metadata": {},
   "source": [
    "\n",
    "# Eigenvalues\n",
    "\n",
    "\n",
    "Create an G{n,m} random graph and compute the eigenvalues.\n"
   ]
  },
  {
   "cell_type": "code",
   "execution_count": 1,
   "metadata": {},
   "outputs": [],
   "source": [
    "import matplotlib.pyplot as plt\n",
    "import networkx as nx\n",
    "import numpy.linalg\n",
    "import numpy as np\n",
    "import scipy.io as sio\n",
    "import glob\n",
    "import os"
   ]
  },
  {
   "cell_type": "code",
   "execution_count": 7,
   "metadata": {},
   "outputs": [],
   "source": [
    "parpath = r\"F:\\Research\\ScaleVariant\\exp_20190803\\scalefree\""
   ]
  },
  {
   "cell_type": "code",
   "execution_count": 2,
   "metadata": {},
   "outputs": [],
   "source": [
    "def read_network(netfile):\n",
    "    if '.mat' in netfile:\n",
    "        # read network from matlab format file\n",
    "        adjmat = sio.loadmat(netfile)['A']\n",
    "        G = nx.from_numpy_matrix(adjmat)\n",
    "    elif 'dk' in netfile:\n",
    "        G = nx.read_edgelist(netfile, delimiter='\\t', comments='#', data=(('weight', float),))\n",
    "    else:\n",
    "        G = nx.read_edgelist(netfile, delimiter=' ', comments='#', data=(('weight', float),))\n",
    "    return G"
   ]
  },
  {
   "cell_type": "code",
   "execution_count": 3,
   "metadata": {},
   "outputs": [],
   "source": [
    "def get_eigenvalues(netfile):\n",
    "    G = read_network(netfile)\n",
    "    L = nx.normalized_laplacian_matrix(G)\n",
    "    e = numpy.linalg.eigvals(L.A)\n",
    "    return (np.sort(e))"
   ]
  },
  {
   "cell_type": "code",
   "execution_count": 5,
   "metadata": {},
   "outputs": [],
   "source": [
    "def get_eigenlist(folder):\n",
    "    elist, filels = [], []\n",
    "    mat_path = os.path.join(parpath, folder)\n",
    "    for netfile in glob.glob(r'{}/*_index_1.txt'.format(mat_path)):\n",
    "        if os.path.isfile(netfile):\n",
    "            filels.append(netfile)\n",
    "            #print(netfile)\n",
    "            e = get_eigenvalues(netfile)\n",
    "            elist.append(e)\n",
    "    print('Number of networks ', len(elist))\n",
    "    return elist, filels"
   ]
  },
  {
   "cell_type": "code",
   "execution_count": 8,
   "metadata": {},
   "outputs": [
    {
     "name": "stdout",
     "output_type": "stream",
     "text": [
      "F:\\Research\\ScaleVariant\\exp_20190803\\scalefree\\BA\\nodes_200_BA_m_1_index_1.txt\n",
      "F:\\Research\\ScaleVariant\\exp_20190803\\scalefree\\BA\\nodes_200_BA_m_2_index_1.txt\n",
      "F:\\Research\\ScaleVariant\\exp_20190803\\scalefree\\BA\\nodes_200_BA_m_3_index_1.txt\n",
      "F:\\Research\\ScaleVariant\\exp_20190803\\scalefree\\BA\\nodes_200_BA_m_4_index_1.txt\n",
      "F:\\Research\\ScaleVariant\\exp_20190803\\scalefree\\BA\\nodes_200_BA_m_5_index_1.txt\n"
     ]
    }
   ],
   "source": [
    "elist_BA, BA_ls = get_eigenlist('BA')"
   ]
  },
  {
   "cell_type": "code",
   "execution_count": 11,
   "metadata": {},
   "outputs": [
    {
     "name": "stdout",
     "output_type": "stream",
     "text": [
      "F:\\Research\\ScaleVariant\\exp_20190803\\scalefree\\conf\\nodes_200_conf_index_1.txt\n"
     ]
    }
   ],
   "source": [
    "elist_cf, cf_ls = get_eigenlist('conf')"
   ]
  },
  {
   "cell_type": "code",
   "execution_count": 42,
   "metadata": {},
   "outputs": [],
   "source": [
    "def save_egenvalues(elist, name='eigen'):\n",
    "    earr = np.array(elist, dtype=np.float32).T\n",
    "    np.savetxt(name, earr, delimiter='\\t')\n",
    "    print('Saved to file {}'.format(name), earr.shape)"
   ]
  },
  {
   "cell_type": "code",
   "execution_count": 43,
   "metadata": {},
   "outputs": [
    {
     "name": "stdout",
     "output_type": "stream",
     "text": [
      "Saved to file eigen_CF.txt (128, 50)\n"
     ]
    },
    {
     "name": "stderr",
     "output_type": "stream",
     "text": [
      "C:\\ProgramData\\Anaconda3\\lib\\site-packages\\ipykernel_launcher.py:2: ComplexWarning: Casting complex values to real discards the imaginary part\n",
      "  \n"
     ]
    }
   ],
   "source": [
    "save_egenvalues(elist_cf, 'eigen_CF.txt')"
   ]
  },
  {
   "cell_type": "code",
   "execution_count": 44,
   "metadata": {},
   "outputs": [
    {
     "name": "stdout",
     "output_type": "stream",
     "text": [
      "Saved to file eigen_BA.txt (128, 50)\n"
     ]
    },
    {
     "name": "stderr",
     "output_type": "stream",
     "text": [
      "C:\\ProgramData\\Anaconda3\\lib\\site-packages\\ipykernel_launcher.py:2: ComplexWarning: Casting complex values to real discards the imaginary part\n",
      "  \n"
     ]
    }
   ],
   "source": [
    "save_egenvalues(elist_BA, 'eigen_BA.txt')"
   ]
  },
  {
   "cell_type": "code",
   "execution_count": 9,
   "metadata": {},
   "outputs": [],
   "source": [
    "def plot_eigenvalues(elist):\n",
    "    fig, ax = plt.subplots(figsize=(5, 5))\n",
    "    for e in elist:\n",
    "        n = len(e)\n",
    "        ax.scatter(range(n), e)\n",
    "        ax.set_ylim(0, 0.5)"
   ]
  },
  {
   "cell_type": "code",
   "execution_count": 10,
   "metadata": {},
   "outputs": [
    {
     "name": "stderr",
     "output_type": "stream",
     "text": [
      "C:\\ProgramData\\Anaconda3\\lib\\site-packages\\numpy\\core\\numeric.py:544: ComplexWarning: Casting complex values to real discards the imaginary part\n",
      "  return array(a, dtype, copy=False, order=order, subok=True)\n"
     ]
    },
    {
     "data": {
      "image/png": "[encoded data removed]",
      "text/plain": [
       "<Figure size 360x360 with 1 Axes>"
      ]
     },
     "metadata": {},
     "output_type": "display_data"
    }
   ],
   "source": [
    "plot_eigenvalues(elist_BA)"
   ]
  },
  {
   "cell_type": "code",
   "execution_count": 12,
   "metadata": {},
   "outputs": [
    {
     "name": "stderr",
     "output_type": "stream",
     "text": [
      "C:\\ProgramData\\Anaconda3\\lib\\site-packages\\numpy\\core\\numeric.py:544: ComplexWarning: Casting complex values to real discards the imaginary part\n",
      "  return array(a, dtype, copy=False, order=order, subok=True)\n"
     ]
    },
    {
     "data": {
      "image/png": "[encoded data removed]",
      "text/plain": [
       "<Figure size 360x360 with 1 Axes>"
      ]
     },
     "metadata": {},
     "output_type": "display_data"
    }
   ],
   "source": [
    "plot_eigenvalues(elist_cf)"
   ]
  },
  {
   "cell_type": "code",
   "execution_count": 5,
   "metadata": {},
   "outputs": [
    {
     "name": "stdout",
     "output_type": "stream",
     "text": [
      "Largest eigenvalue: 1.5979092784802063\n",
      "Smallest eigenvalue: 8.427874383669795e-17\n"
     ]
    },
    {
     "data": {
      "image/png": "[encoded data removed]",
      "text/plain": [
       "<Figure size 432x288 with 1 Axes>"
      ]
     },
     "metadata": {},
     "output_type": "display_data"
    }
   ],
   "source": [
    "print(\"Largest eigenvalue:\", max(e))\n",
    "print(\"Smallest eigenvalue:\", min(e))\n",
    "plt.hist(e, bins=100)  # histogram with 100 bins\n",
    "plt.xlim(0, 2)  # eigenvalues between 0 and 2\n",
    "plt.show()"
   ]
  },
  {
   "cell_type": "code",
   "execution_count": 11,
   "metadata": {},
   "outputs": [
    {
     "data": {
      "text/plain": [
       "<matplotlib.collections.PathCollection at 0x23b6d82f780>"
      ]
     },
     "execution_count": 11,
     "metadata": {},
     "output_type": "execute_result"
    },
    {
     "data": {
      "image/png": "[encoded data removed]",
      "text/plain": [
       "<Figure size 432x288 with 1 Axes>"
      ]
     },
     "metadata": {},
     "output_type": "display_data"
    }
   ],
   "source": [
    "sorted_e = np.sort(e)\n",
    "n = len(e)\n",
    "plt.scatter(range(n), sorted_e)"
   ]
  }
 ],
 "metadata": {
  "kernelspec": {
   "display_name": "Python 3",
   "language": "python",
   "name": "python3"
  },
  "language_info": {
   "codemirror_mode": {
    "name": "ipython",
    "version": 3
   },
   "file_extension": ".py",
   "mimetype": "text/x-python",
   "name": "python",
   "nbconvert_exporter": "python",
   "pygments_lexer": "ipython3",
   "version": "3.6.5"
  }
 },
 "nbformat": 4,
 "nbformat_minor": 1
}
